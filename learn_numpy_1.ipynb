{
 "cells": [
  {
   "cell_type": "markdown",
   "id": "b5675ad1",
   "metadata": {},
   "source": [
    "# Numpy学习（一）"
   ]
  },
  {
   "cell_type": "markdown",
   "id": "259c3fbe",
   "metadata": {},
   "source": [
    "### 1. 创建数组\n",
    "**1.1 通过列表或者元组创建**"
   ]
  },
  {
   "cell_type": "code",
   "execution_count": 1,
   "id": "eef6a0b0",
   "metadata": {},
   "outputs": [
    {
     "data": {
      "text/plain": [
       "([1, 2, 3, 4],\n",
       " array([1., 2., 3., 4.], dtype=float32),\n",
       " array([1., 2., 3., 4.], dtype=float32),\n",
       " numpy.ndarray,\n",
       " numpy.ndarray)"
      ]
     },
     "execution_count": 1,
     "metadata": {},
     "output_type": "execute_result"
    }
   ],
   "source": [
    "import numpy as np\n",
    "\n",
    "a = [1, 2, 3, 4]\n",
    "b = (1, 2, 3, 4)\n",
    "na = np.array(a, dtype=np.float32)\n",
    "nb = np.array(b, dtype=np.float32)\n",
    "a, nb, na, type(na), type(nb)"
   ]
  },
  {
   "cell_type": "markdown",
   "id": "b04c4f09",
   "metadata": {},
   "source": [
    "**1.2 指定范围创建**"
   ]
  },
  {
   "cell_type": "code",
   "execution_count": 2,
   "id": "808d177d",
   "metadata": {},
   "outputs": [
    {
     "data": {
      "text/plain": [
       "(array([1., 2., 3., 4., 5.], dtype=float32),\n",
       " array([0., 1., 2., 3., 4., 5., 6.], dtype=float32))"
      ]
     },
     "execution_count": 2,
     "metadata": {},
     "output_type": "execute_result"
    }
   ],
   "source": [
    "nc = np.arange(1, 6, dtype=np.float32)\n",
    "nd = np.arange(7, dtype=np.float32)\n",
    "nc, nd"
   ]
  },
  {
   "cell_type": "markdown",
   "id": "34823a0f",
   "metadata": {},
   "source": [
    "**1.3 创建特定元素的数组**"
   ]
  },
  {
   "cell_type": "code",
   "execution_count": 3,
   "id": "40ddf06b",
   "metadata": {},
   "outputs": [
    {
     "data": {
      "text/plain": [
       "(array([[1, 1, 1],\n",
       "        [1, 1, 1],\n",
       "        [1, 1, 1]], dtype=int8),\n",
       " array([[0, 0, 0],\n",
       "        [0, 0, 0],\n",
       "        [0, 0, 0]], dtype=int8))"
      ]
     },
     "execution_count": 3,
     "metadata": {},
     "output_type": "execute_result"
    }
   ],
   "source": [
    "# 创建全0元素和全1元素数组\n",
    "ne = np.ones((3, 3), dtype=np.int8)\n",
    "nf = np.zeros((3, 3), dtype=np.int8)\n",
    "ne, nf"
   ]
  },
  {
   "cell_type": "markdown",
   "id": "14d4905b",
   "metadata": {},
   "source": [
    "### 2. numpy索引与切片\n",
    "numpy各个维度的下标都是从0开始的，根据下标访问指定位置的元素。\n",
    "\n",
    "**2.1 访问单个元素**"
   ]
  },
  {
   "cell_type": "code",
   "execution_count": 4,
   "id": "86fdbf1b",
   "metadata": {
    "scrolled": true
   },
   "outputs": [
    {
     "data": {
      "text/plain": [
       "(array([[ 0.,  1.,  2.,  3.],\n",
       "        [ 4.,  5.,  6.,  7.],\n",
       "        [ 8.,  9., 10., 11.],\n",
       "        [12., 13., 14., 15.]]),\n",
       " 11.0)"
      ]
     },
     "execution_count": 4,
     "metadata": {},
     "output_type": "execute_result"
    }
   ],
   "source": [
    "ng = np.arange(16.).reshape((4, 4))\n",
    "num = ng[2, 3]  # 访问指定位置的单个元素\n",
    "ng, num"
   ]
  },
  {
   "cell_type": "markdown",
   "id": "775d72c1",
   "metadata": {},
   "source": [
    "**2.2 访问多个指定位置元素**"
   ]
  },
  {
   "cell_type": "code",
   "execution_count": 5,
   "id": "3b8b6952",
   "metadata": {},
   "outputs": [
    {
     "data": {
      "text/plain": [
       "array([ 1.,  6., 11.])"
      ]
     },
     "execution_count": 5,
     "metadata": {},
     "output_type": "execute_result"
    }
   ],
   "source": [
    "nums1 = ng[(0, 1, 2), (1, 2, 3)]\n",
    "nums1"
   ]
  },
  {
   "cell_type": "markdown",
   "id": "1edf2731",
   "metadata": {},
   "source": [
    "**2.3 访问行或者列**\n",
    "\n",
    "可以使用:访问连续的行和列"
   ]
  },
  {
   "cell_type": "code",
   "execution_count": 6,
   "id": "2279ee18",
   "metadata": {},
   "outputs": [
    {
     "data": {
      "text/plain": [
       "(array([[0., 1., 2., 3.],\n",
       "        [4., 5., 6., 7.]]),\n",
       " array([[ 0.,  1.],\n",
       "        [ 4.,  5.],\n",
       "        [ 8.,  9.],\n",
       "        [12., 13.]]))"
      ]
     },
     "execution_count": 6,
     "metadata": {},
     "output_type": "execute_result"
    }
   ],
   "source": [
    "r1 = ng[0:2, :]  # 取出第一行和第二行\n",
    "c1 = ng[:, 0:2]  # 取出第一列和第二列\n",
    "r1, c1"
   ]
  },
  {
   "cell_type": "markdown",
   "id": "2b689664",
   "metadata": {},
   "source": [
    "使用列表或者元组，访问指定的行或者列"
   ]
  },
  {
   "cell_type": "code",
   "execution_count": 7,
   "id": "314dc89f",
   "metadata": {},
   "outputs": [
    {
     "data": {
      "text/plain": [
       "(array([[ 0.,  1.,  2.,  3.],\n",
       "        [ 8.,  9., 10., 11.]]),\n",
       " array([[ 0.,  2.],\n",
       "        [ 4.,  6.],\n",
       "        [ 8., 10.],\n",
       "        [12., 14.]]))"
      ]
     },
     "execution_count": 7,
     "metadata": {},
     "output_type": "execute_result"
    }
   ],
   "source": [
    "r2 = ng[(0, 2), :]  # 访问第1行和第3行\n",
    "c2 = ng[:, (0, 2)]  # 访问第1列和第3列\n",
    "r2, c2"
   ]
  },
  {
   "cell_type": "markdown",
   "id": "e2ac37da",
   "metadata": {},
   "source": [
    "**2.4 访问多行和多列**"
   ]
  },
  {
   "cell_type": "code",
   "execution_count": 8,
   "id": "122e63d8",
   "metadata": {
    "scrolled": true
   },
   "outputs": [
    {
     "data": {
      "text/plain": [
       "(array([[ 0.,  1.,  2.,  3.,  4.,  5.],\n",
       "        [ 6.,  7.,  8.,  9., 10., 11.],\n",
       "        [12., 13., 14., 15., 16., 17.],\n",
       "        [18., 19., 20., 21., 22., 23.],\n",
       "        [24., 25., 26., 27., 28., 29.],\n",
       "        [30., 31., 32., 33., 34., 35.]]),\n",
       " array([[ 8.,  9.],\n",
       "        [14., 15.]]))"
      ]
     },
     "execution_count": 8,
     "metadata": {},
     "output_type": "execute_result"
    }
   ],
   "source": [
    "nh = np.arange(36.).reshape((6, 6))\n",
    "nums2 = nh[1:3, 2:4]  # 取多行和多列\n",
    "nh, nums2"
   ]
  },
  {
   "cell_type": "markdown",
   "id": "5f09e08e",
   "metadata": {},
   "source": [
    "### 3. 数组形状调整\n",
    "\n",
    "数组形状调整可以通过reshape()来实现，并指定目标形状"
   ]
  },
  {
   "cell_type": "code",
   "execution_count": 11,
   "id": "f975aa91",
   "metadata": {},
   "outputs": [
    {
     "data": {
      "text/plain": [
       "(array([[ 0.,  1.,  2.,  3.,  4.,  5.,  6.,  7.,  8.],\n",
       "        [ 9., 10., 11., 12., 13., 14., 15., 16., 17.],\n",
       "        [18., 19., 20., 21., 22., 23., 24., 25., 26.],\n",
       "        [27., 28., 29., 30., 31., 32., 33., 34., 35.]]),\n",
       " array([[ 0.,  1.,  2.,  3.],\n",
       "        [ 4.,  5.,  6.,  7.],\n",
       "        [ 8.,  9., 10., 11.],\n",
       "        [12., 13., 14., 15.],\n",
       "        [16., 17., 18., 19.],\n",
       "        [20., 21., 22., 23.],\n",
       "        [24., 25., 26., 27.],\n",
       "        [28., 29., 30., 31.],\n",
       "        [32., 33., 34., 35.]]))"
      ]
     },
     "execution_count": 11,
     "metadata": {},
     "output_type": "execute_result"
    }
   ],
   "source": [
    "nh.reshape((4, 9)), nh.reshape((-1, 4))    # -1表示该维度由代码自动推理出来"
   ]
  },
  {
   "cell_type": "markdown",
   "id": "4210f33a",
   "metadata": {},
   "source": [
    "### 4. numpy数组拼接\n",
    "\n",
    "数组拼接是将2个及以上的数组拼接成一个数组的操作，需要指定拼接的轴，即在哪一个维度上进行拼接。除了进行拼接的那个维度，其余维度必须相等，否则无法拼接\n",
    "\n",
    "**4.1 使用np.concatenate()**"
   ]
  },
  {
   "cell_type": "code",
   "execution_count": 10,
   "id": "893bbdcb",
   "metadata": {},
   "outputs": [
    {
     "data": {
      "text/plain": [
       "(array([[ 0.,  1.,  2.,  3.,  4.],\n",
       "        [ 5.,  6.,  7.,  8.,  9.],\n",
       "        [10., 11., 12., 13., 14.]]),\n",
       " array([[1., 1., 1., 1., 1.],\n",
       "        [1., 1., 1., 1., 1.],\n",
       "        [1., 1., 1., 1., 1.]]),\n",
       " array([[ 0.,  1.,  2.,  3.,  4.],\n",
       "        [ 5.,  6.,  7.,  8.,  9.],\n",
       "        [10., 11., 12., 13., 14.],\n",
       "        [ 1.,  1.,  1.,  1.,  1.],\n",
       "        [ 1.,  1.,  1.,  1.,  1.],\n",
       "        [ 1.,  1.,  1.,  1.,  1.]]),\n",
       " array([[ 0.,  1.,  2.,  3.,  4.,  1.,  1.,  1.,  1.,  1.],\n",
       "        [ 5.,  6.,  7.,  8.,  9.,  1.,  1.,  1.,  1.,  1.],\n",
       "        [10., 11., 12., 13., 14.,  1.,  1.,  1.,  1.,  1.]]))"
      ]
     },
     "execution_count": 10,
     "metadata": {},
     "output_type": "execute_result"
    }
   ],
   "source": [
    "ni = np.arange(15.).reshape(3, 5)\n",
    "nj = np.ones((3, 5))\n",
    "nk = np.concatenate((ni, nj), axis=0)\n",
    "nl = np.concatenate((ni, nj), axis=1)\n",
    "ni, nj, nk, nl"
   ]
  }
 ],
 "metadata": {
  "kernelspec": {
   "display_name": "d2l",
   "language": "python",
   "name": "d2l"
  },
  "language_info": {
   "codemirror_mode": {
    "name": "ipython",
    "version": 3
   },
   "file_extension": ".py",
   "mimetype": "text/x-python",
   "name": "python",
   "nbconvert_exporter": "python",
   "pygments_lexer": "ipython3",
   "version": "3.9.11"
  }
 },
 "nbformat": 4,
 "nbformat_minor": 5
}
